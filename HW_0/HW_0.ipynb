{
 "cells": [
  {
   "cell_type": "markdown",
   "metadata": {},
   "source": [
    "## Вывод (std out)"
   ]
  },
  {
   "cell_type": "code",
   "execution_count": 1,
   "metadata": {},
   "outputs": [],
   "source": [
    "## Напишите программу, которая вводит строки без newline или space (не забудьте что print принимает сколько угодно аргументов)\n",
    "\n",
    "# Тестовые данные\n",
    "\n",
    "# 1, 5, 8, 3 -> 1583\n",
    "# 1, \"new\", 8, \"old\" -> 1new8old"
   ]
  },
  {
   "cell_type": "code",
   "execution_count": 2,
   "metadata": {},
   "outputs": [
    {
     "name": "stdout",
     "output_type": "stream",
     "text": [
      "1new8old\n"
     ]
    }
   ],
   "source": [
    "a = 1\n",
    "b = \"new\"\n",
    "c = 8\n",
    "d = \"old\"\n",
    "print(str(a), b, str(c), d, sep='') "
   ]
  },
  {
   "cell_type": "code",
   "execution_count": 3,
   "metadata": {},
   "outputs": [
    {
     "name": "stdout",
     "output_type": "stream",
     "text": [
      "1new8old\n"
     ]
    }
   ],
   "source": [
    "a = 1\n",
    "b = \"new\"\n",
    "c = 8\n",
    "d = \"old\"\n",
    "print(str(a) + b + str(c) + d)"
   ]
  },
  {
   "cell_type": "code",
   "execution_count": 4,
   "metadata": {},
   "outputs": [
    {
     "name": "stdout",
     "output_type": "stream",
     "text": [
      "1583\n"
     ]
    }
   ],
   "source": [
    "a = 1\n",
    "b = 5\n",
    "c = 8\n",
    "d = 3\n",
    "print(a,b,c,d, sep='')"
   ]
  },
  {
   "cell_type": "code",
   "execution_count": 1,
   "metadata": {},
   "outputs": [
    {
     "name": "stdout",
     "output_type": "stream",
     "text": [
      "1583\n",
      "1new8old\n"
     ]
    }
   ],
   "source": [
    "print(1, 5, 8, 3, sep=\"\")\n",
    "print(1, \"new\", 8, \"old\", sep=\"\")"
   ]
  },
  {
   "cell_type": "markdown",
   "metadata": {},
   "source": [
    "## Арифметика "
   ]
  },
  {
   "cell_type": "code",
   "execution_count": 2,
   "metadata": {},
   "outputs": [],
   "source": [
    "## Расчитайте расстояние между двумя заданными точками (math.sqrt) заданными в двумерном пространстве\n",
    "\n",
    "# Тестовые данные\n",
    "\n",
    "# [0, 0], [1, 1] -> 1.4142135623730951\n",
    "# [0, 1], [1, 5] -> 4.123105625617661\n",
    "# [4, 1], [12, 5] -> 8.94427190999916\n"
   ]
  },
  {
   "cell_type": "code",
   "execution_count": 2,
   "metadata": {},
   "outputs": [
    {
     "name": "stdout",
     "output_type": "stream",
     "text": [
      "1.4142135623730951\n",
      "4.123105625617661\n",
      "8.94427190999916\n"
     ]
    }
   ],
   "source": [
    "import math \n",
    "x = [0, 0]\n",
    "y = [1, 1]\n",
    "print (math.sqrt ((y[0]-x[0]) ** 2 + (y[1]-x[1]) ** 2))\n",
    "\n",
    "x = [0, 1]\n",
    "y = [1, 5]\n",
    "print (math.sqrt ((y[0]-x[0]) ** 2 + (y[1]-x[1]) ** 2))\n",
    "\n",
    "x = [4, 1]\n",
    "y = [12, 5]\n",
    "print (math.sqrt ((y[0]-x[0]) ** 2 + (y[1]-x[1]) ** 2))"
   ]
  },
  {
   "cell_type": "markdown",
   "metadata": {},
   "source": [
    "## Списки"
   ]
  },
  {
   "cell_type": "code",
   "execution_count": 3,
   "metadata": {},
   "outputs": [],
   "source": [
    "## Посчитайте сумму элементов в списке (только тех, что чей тип float)\n",
    "\n",
    "# Тестовые данные\n",
    "\n",
    "color_list = [0.1,\"зеленый\", 1.6, \"белый\", 0.3, \"черный\", 7, \"2.0\"]\n",
    "\n",
    "# ответ: 2"
   ]
  },
  {
   "cell_type": "code",
   "execution_count": 1,
   "metadata": {},
   "outputs": [
    {
     "name": "stdout",
     "output_type": "stream",
     "text": [
      "2\n"
     ]
    }
   ],
   "source": [
    "mylist = [0.1,\"зеленый\", 1.6, \"белый\", 0.3, \"черный\", 7, \"2.0\"]\n",
    "\n",
    "mylist_length = len(mylist)\n",
    "sumofelements = 0\n",
    "i = 0\n",
    "while i < mylist_length:\n",
    "    if type(mylist[i]) == float:\n",
    "        sumofelements = sumofelements + mylist[i]\n",
    "    i = i + 1\n",
    "    \n",
    "print(int(sumofelements)) "
   ]
  },
  {
   "cell_type": "code",
   "execution_count": 4,
   "metadata": {},
   "outputs": [],
   "source": [
    "## Отобразите с помощью print только первый и последний элемент списка (цикл while)\n",
    "\n",
    "# Тестовые данные\n",
    "\n",
    "color_list = [\"красный\",\"зеленый\",\"белый\" ,\"черный\"]"
   ]
  },
  {
   "cell_type": "code",
   "execution_count": 2,
   "metadata": {},
   "outputs": [
    {
     "name": "stdout",
     "output_type": "stream",
     "text": [
      "['красный', 'черный']\n"
     ]
    }
   ],
   "source": [
    "mylist = [\"красный\",\"зеленый\",\"белый\" ,\"черный\"]\n",
    "new_list = []\n",
    "i = 0\n",
    "\n",
    "while i < len(mylist):\n",
    "    if mylist[i] == mylist[0]:\n",
    "        new_list.append(mylist[i]) \n",
    "    i = i + 1\n",
    "             \n",
    "    if mylist[i] == mylist[-1]:\n",
    "        new_list.append(mylist[i])\n",
    "    i = i + 1\n",
    "\n",
    "print (new_list)"
   ]
  },
  {
   "cell_type": "code",
   "execution_count": 5,
   "metadata": {},
   "outputs": [],
   "source": [
    "## Проверьте есть ли в данный элемент в списке, если есть выведите с помощью print \"Element такой то was found\", если элемента не нашлось выведите \"Clear\" (цикл while) \n",
    "\n",
    "# Тестовые данные\n",
    "\n",
    "# 3 -> [1, 5, 8, 3] -> \"Element 3 was found\"\n",
    "# -1 -> [1, 5, 8, 3] -> \"Clear\"\n",
    "# \"color\" -> [1, \"color\", 1.3, 3] ->  \"Element color was found\"\n"
   ]
  },
  {
   "cell_type": "code",
   "execution_count": 16,
   "metadata": {},
   "outputs": [
    {
     "name": "stdout",
     "output_type": "stream",
     "text": [
      "Element 3 was found\n"
     ]
    }
   ],
   "source": [
    "a = 3\n",
    "main_list = [1, 5, 8, 3]\n",
    "element = 0\n",
    "while element < len(main_list):\n",
    "    if a == main_list[element]:\n",
    "        print(\"Element\", a, \"was found\")\n",
    "        break\n",
    "    elif element == len(main_list) - 1:\n",
    "        print(\"Clear\")\n",
    "    element += 1"
   ]
  },
  {
   "cell_type": "code",
   "execution_count": 17,
   "metadata": {},
   "outputs": [
    {
     "name": "stdout",
     "output_type": "stream",
     "text": [
      "Clear\n"
     ]
    }
   ],
   "source": [
    "a = -1\n",
    "main_list = [1, 5, 8, 3]\n",
    "element = 0\n",
    "while element < len(main_list):\n",
    "    if a == main_list[element]:\n",
    "        print(\"Element\", a, \"was found\")\n",
    "        break\n",
    "    elif element == len(main_list) - 1:\n",
    "        print(\"Clear\")\n",
    "    element += 1"
   ]
  },
  {
   "cell_type": "code",
   "execution_count": 19,
   "metadata": {},
   "outputs": [
    {
     "name": "stdout",
     "output_type": "stream",
     "text": [
      "Element color was found\n"
     ]
    }
   ],
   "source": [
    "a = 'color'\n",
    "main_list = [1, \"color\", 1.3, 3]\n",
    "element = 0\n",
    "while element < len(main_list):\n",
    "    if a == main_list[element]:\n",
    "        print(\"Element\", a, \"was found\")\n",
    "        break\n",
    "    elif element == len(main_list) - 1:\n",
    "        print(\"Clear\")\n",
    "    element += 1"
   ]
  },
  {
   "cell_type": "code",
   "execution_count": 4,
   "metadata": {},
   "outputs": [
    {
     "name": "stdout",
     "output_type": "stream",
     "text": [
      "Element 3 was found\n"
     ]
    }
   ],
   "source": [
    "list_1 = [1, 5, 8, 3] \n",
    "a = 3\n",
    "    \n",
    "if a in list_1:\n",
    "    print(\"Element\", a, \"was found\")\n",
    "else:\n",
    "    print(\"Clear\")"
   ]
  },
  {
   "cell_type": "code",
   "execution_count": 9,
   "metadata": {},
   "outputs": [
    {
     "name": "stdout",
     "output_type": "stream",
     "text": [
      "Clear\n"
     ]
    }
   ],
   "source": [
    "list_2 = [1, 5, 8, 3] \n",
    "a = -1\n",
    "if a in list_2:\n",
    "    print(\"Element\", a, \"was found\")\n",
    "else:\n",
    "    print(\"Clear\")"
   ]
  },
  {
   "cell_type": "code",
   "execution_count": 7,
   "metadata": {},
   "outputs": [
    {
     "name": "stdout",
     "output_type": "stream",
     "text": [
      "Element color was found\n"
     ]
    }
   ],
   "source": [
    "list_3 = [1, \"color\", 1.3, 3]\n",
    "a = \"color\"\n",
    "    \n",
    "if a in list_3:\n",
    "    print(\"Element\", a, \"was found\")\n",
    "else:\n",
    "    print(\"Clear\")"
   ]
  },
  {
   "cell_type": "code",
   "execution_count": 6,
   "metadata": {},
   "outputs": [],
   "source": [
    "## Пройдите по списку и объедините все элементы из списка в одну строку через пробел (цикл while)\n",
    "\n",
    "# Тестовые данные\n",
    "\n",
    "# [\"9\", \"caMii\", \" /\\y4LLIii\", \"proger\", \"v\", \"2022\", \"roDy\"] -> 9 caMii  /\\y4LLIii proger v 2022 roDy"
   ]
  },
  {
   "cell_type": "code",
   "execution_count": 20,
   "metadata": {},
   "outputs": [
    {
     "name": "stdout",
     "output_type": "stream",
     "text": [
      "9 caMii  /\\y4LLIii proger v 2022 roDy "
     ]
    }
   ],
   "source": [
    "mylist = [\"9\", \"caMii\", \" /\\y4LLIii\", \"proger\", \"v\", \"2022\", \"roDy\"]\n",
    "\n",
    "i = 0\n",
    "\n",
    "while i < len(mylist):\n",
    "    print(mylist[i],end=\" \")\n",
    "    i += 1"
   ]
  },
  {
   "cell_type": "code",
   "execution_count": 21,
   "metadata": {},
   "outputs": [],
   "source": [
    "## Пройдите по двум списка сразу и выведите сразу по два элемента - один из одного списка, другой из другого \n",
    "## (подсказка - обращайтесь по индексу к элементам обоих списков)\n",
    "\n",
    "# Тестовые данные\n",
    "\n",
    "color_list_1 = [\"White\", \"Black\", \"Red\"]\n",
    "color_list_2 = [\"Red\", \"Green\", \"White\"]\n",
    "\n",
    "# White Red\n",
    "# Black Green\n",
    "# Red White"
   ]
  },
  {
   "cell_type": "code",
   "execution_count": 22,
   "metadata": {},
   "outputs": [
    {
     "name": "stdout",
     "output_type": "stream",
     "text": [
      "# White Red\n",
      "# Black Green\n",
      "# Red White\n"
     ]
    }
   ],
   "source": [
    "a = [\"White\", \"Black\", \"Red\"]\n",
    "b = [\"Red\", \"Green\", \"White\"]\n",
    "\n",
    "print('#', a[0], b[0])\n",
    "print('#', a[1], b[1])\n",
    "print('#', a[2], b[2])"
   ]
  },
  {
   "cell_type": "code",
   "execution_count": 23,
   "metadata": {},
   "outputs": [
    {
     "name": "stdout",
     "output_type": "stream",
     "text": [
      "White Red\n",
      "Black Green\n",
      "Red White\n"
     ]
    }
   ],
   "source": [
    "element = 0\n",
    "\n",
    "while element < len(a):\n",
    "    print(a[element], b[element])\n",
    "    element += 1"
   ]
  },
  {
   "cell_type": "code",
   "execution_count": 8,
   "metadata": {},
   "outputs": [],
   "source": [
    "## Пройдите по списку и выводите каждый следующий элемент столько раз какой у него ((индекс + 1) * 3) в списке (цикл while) \n",
    "\n",
    "# Тестовые данные\n",
    "\n",
    "a = [\"a\", \"b\", \"c\", \"d\"] \n",
    "\n",
    "# ответ -> \"aaabbbbbbcccccccccdddddddddddd\""
   ]
  },
  {
   "cell_type": "code",
   "execution_count": 24,
   "metadata": {},
   "outputs": [
    {
     "name": "stdout",
     "output_type": "stream",
     "text": [
      "aaabbbbbbcccccccccdddddddddddd\n"
     ]
    }
   ],
   "source": [
    "a = [\"a\", \"b\", \"c\", \"d\"] \n",
    "\n",
    "element = 1\n",
    "str_to_print = a[0] * ((0 + 1) * 3)\n",
    "\n",
    "while element < len(a):\n",
    "    str_to_print += a[element] * ((element + 1) * 3)\n",
    "    element += 1\n",
    "\n",
    "print(str_to_print)"
   ]
  },
  {
   "cell_type": "code",
   "execution_count": 9,
   "metadata": {},
   "outputs": [],
   "source": [
    "## Зайдите в каждый масив внутри (если это списко) и рассортируйте мне элементы по соответствующим спискам (не забудьте про append)\n",
    "\n",
    "sample = [[\"a\", \"b\", 1, 2.4], \"string\", [\"new\", 11111, 1000.0, \"old\"]]\n",
    "\n",
    "\n",
    "integers = []\n",
    "floats = []\n",
    "strings = []\n",
    "\n",
    "# ответ\n",
    "# integers -> [1, 11111]\n",
    "# floats -> [2.4, 1000.0]\n",
    "# strings -> [\"a\", \"b\", \"string\", \"new\", \"old\"]"
   ]
  },
  {
   "cell_type": "code",
   "execution_count": 29,
   "metadata": {},
   "outputs": [
    {
     "name": "stdout",
     "output_type": "stream",
     "text": [
      "[1, 11111] [2.4, 1000.0] ['a', 'b', 'string', 'new', 'old']\n"
     ]
    }
   ],
   "source": [
    "sample = [[\"a\", \"b\", 1, 2.4], \"string\", [\"new\", 11111, 1000.0, \"old\"]]\n",
    "integers = []\n",
    "floats = []\n",
    "strings = []\n",
    "element = 0\n",
    "\n",
    "while element < len(sample):\n",
    "    if type(sample[element]) is list:\n",
    "        innerelement = 0\n",
    "        while innerelement < len(sample[element]):\n",
    "            if type(sample[element][innerelement]) == int: integers.append(sample[element][innerelement])\n",
    "            if type(sample[element][innerelement]) == float: floats.append(sample[element][innerelement])\n",
    "            if type(sample[element][innerelement]) == str: strings.append(sample[element][innerelement])\n",
    "            innerelement += 1\n",
    "    if type(sample[element]) == int: integers.append(sample[element])\n",
    "    if type(sample[element]) == float: floats.append(sample[element])\n",
    "    if type(sample[element]) == str: strings.append(sample[element]) \n",
    "    element += 1\n",
    "\n",
    "print(integers, floats, strings)"
   ]
  },
  {
   "cell_type": "markdown",
   "metadata": {},
   "source": [
    "## Библиотеки "
   ]
  },
  {
   "cell_type": "code",
   "execution_count": 10,
   "metadata": {},
   "outputs": [],
   "source": [
    "## Напишите программу, которая выводит настоящее время ( то есть в ремя в которую программа запущена, используйте либу - time) \n",
    "\n",
    "# Тестовые данные (например)\n",
    "\n",
    "# 'Sat Oct  1 00:34:36 2022'"
   ]
  },
  {
   "cell_type": "code",
   "execution_count": 26,
   "metadata": {},
   "outputs": [],
   "source": [
    "import time\n"
   ]
  },
  {
   "cell_type": "code",
   "execution_count": 27,
   "metadata": {},
   "outputs": [
    {
     "name": "stdout",
     "output_type": "stream",
     "text": [
      "Sat Oct 15 13:17:57 2022\n"
     ]
    }
   ],
   "source": [
    "print(time.strftime(\"%a %b %d %X %Y\", time.localtime()))"
   ]
  }
 ],
 "metadata": {
  "kernelspec": {
   "display_name": "Python 3",
   "language": "python",
   "name": "python3"
  },
  "language_info": {
   "codemirror_mode": {
    "name": "ipython",
    "version": 3
   },
   "file_extension": ".py",
   "mimetype": "text/x-python",
   "name": "python",
   "nbconvert_exporter": "python",
   "pygments_lexer": "ipython3",
   "version": "3.7.3"
  }
 },
 "nbformat": 4,
 "nbformat_minor": 5
}
